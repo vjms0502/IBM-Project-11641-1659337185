{
 "cells": [
  {
   "cell_type": "markdown",
   "id": "2406605d",
   "metadata": {},
   "source": [
    "## Importing The Libraries"
   ]
  },
  {
   "cell_type": "code",
   "execution_count": 3,
   "id": "f4d04de6",
   "metadata": {},
   "outputs": [],
   "source": [
    "import numpy as np\n",
    "import pandas as pd\n",
    "import pickle\n",
    "import seaborn as sns\n",
    "import matplotlib.pyplot as plt\n",
    "%matplotlib inline\n",
    "import sklearn\n",
    "from sklearn.preprocessing import LabelEncoder\n",
    "from sklearn.tree import DecisionTreeClassifier\n",
    "from sklearn.ensemble import RandomForestClassifier\n",
    "from sklearn.neighbors import KNeighborsClassifier\n",
    "from xgboost import XGBClassifier\n",
    "from sklearn.ensemble import RandomForestClassiAfier\n",
    "import imblearn\n",
    "from imblearn.under_sampling import RandomUnderSampler\n",
    "from sklearn.model_selection import train_test_split\n",
    "from sklearn.preprocessing import scale\n",
    "from sklearn.preprocessing import  MaxAbsScaler\n",
    "from sklearn.metrics import accuracy_score,classification_report,confusion_matrix,f1_score\n"
   ]
  },
  {
   "cell_type": "markdown",
   "id": "5a606599",
   "metadata": {},
   "source": [
    "## Reading The Dataset"
   ]
  },
  {
   "cell_type": "code",
   "execution_count": 4,
   "id": "cbec5dd4",
   "metadata": {},
   "outputs": [
    {
     "data": {
      "text/html": [
       "<div>\n",
       "<style scoped>\n",
       "    .dataframe tbody tr th:only-of-type {\n",
       "        vertical-align: middle;\n",
       "    }\n",
       "\n",
       "    .dataframe tbody tr th {\n",
       "        vertical-align: top;\n",
       "    }\n",
       "\n",
       "    .dataframe thead th {\n",
       "        text-align: right;\n",
       "    }\n",
       "</style>\n",
       "<table border=\"1\" class=\"dataframe\">\n",
       "  <thead>\n",
       "    <tr style=\"text-align: right;\">\n",
       "      <th></th>\n",
       "      <th>Loan_ID</th>\n",
       "      <th>Gender</th>\n",
       "      <th>Married</th>\n",
       "      <th>Dependents</th>\n",
       "      <th>Education</th>\n",
       "      <th>Self_Employed</th>\n",
       "      <th>ApplicantIncome</th>\n",
       "      <th>CoapplicantIncome</th>\n",
       "      <th>LoanAmount</th>\n",
       "      <th>Loan_Amount_Term</th>\n",
       "      <th>Credit_History</th>\n",
       "      <th>Property_Area</th>\n",
       "      <th>Loan_Status</th>\n",
       "    </tr>\n",
       "  </thead>\n",
       "  <tbody>\n",
       "    <tr>\n",
       "      <th>0</th>\n",
       "      <td>LP001002</td>\n",
       "      <td>Male</td>\n",
       "      <td>No</td>\n",
       "      <td>0</td>\n",
       "      <td>Graduate</td>\n",
       "      <td>No</td>\n",
       "      <td>5849</td>\n",
       "      <td>0.0</td>\n",
       "      <td>NaN</td>\n",
       "      <td>360.0</td>\n",
       "      <td>1.0</td>\n",
       "      <td>Urban</td>\n",
       "      <td>Y</td>\n",
       "    </tr>\n",
       "    <tr>\n",
       "      <th>1</th>\n",
       "      <td>LP001003</td>\n",
       "      <td>Male</td>\n",
       "      <td>Yes</td>\n",
       "      <td>1</td>\n",
       "      <td>Graduate</td>\n",
       "      <td>No</td>\n",
       "      <td>4583</td>\n",
       "      <td>1508.0</td>\n",
       "      <td>128.0</td>\n",
       "      <td>360.0</td>\n",
       "      <td>1.0</td>\n",
       "      <td>Rural</td>\n",
       "      <td>N</td>\n",
       "    </tr>\n",
       "    <tr>\n",
       "      <th>2</th>\n",
       "      <td>LP001005</td>\n",
       "      <td>Male</td>\n",
       "      <td>Yes</td>\n",
       "      <td>0</td>\n",
       "      <td>Graduate</td>\n",
       "      <td>Yes</td>\n",
       "      <td>3000</td>\n",
       "      <td>0.0</td>\n",
       "      <td>66.0</td>\n",
       "      <td>360.0</td>\n",
       "      <td>1.0</td>\n",
       "      <td>Urban</td>\n",
       "      <td>Y</td>\n",
       "    </tr>\n",
       "    <tr>\n",
       "      <th>3</th>\n",
       "      <td>LP001006</td>\n",
       "      <td>Male</td>\n",
       "      <td>Yes</td>\n",
       "      <td>0</td>\n",
       "      <td>Not Graduate</td>\n",
       "      <td>No</td>\n",
       "      <td>2583</td>\n",
       "      <td>2358.0</td>\n",
       "      <td>120.0</td>\n",
       "      <td>360.0</td>\n",
       "      <td>1.0</td>\n",
       "      <td>Urban</td>\n",
       "      <td>Y</td>\n",
       "    </tr>\n",
       "    <tr>\n",
       "      <th>4</th>\n",
       "      <td>LP001008</td>\n",
       "      <td>Male</td>\n",
       "      <td>No</td>\n",
       "      <td>0</td>\n",
       "      <td>Graduate</td>\n",
       "      <td>No</td>\n",
       "      <td>6000</td>\n",
       "      <td>0.0</td>\n",
       "      <td>141.0</td>\n",
       "      <td>360.0</td>\n",
       "      <td>1.0</td>\n",
       "      <td>Urban</td>\n",
       "      <td>Y</td>\n",
       "    </tr>\n",
       "    <tr>\n",
       "      <th>...</th>\n",
       "      <td>...</td>\n",
       "      <td>...</td>\n",
       "      <td>...</td>\n",
       "      <td>...</td>\n",
       "      <td>...</td>\n",
       "      <td>...</td>\n",
       "      <td>...</td>\n",
       "      <td>...</td>\n",
       "      <td>...</td>\n",
       "      <td>...</td>\n",
       "      <td>...</td>\n",
       "      <td>...</td>\n",
       "      <td>...</td>\n",
       "    </tr>\n",
       "    <tr>\n",
       "      <th>609</th>\n",
       "      <td>LP002978</td>\n",
       "      <td>Female</td>\n",
       "      <td>No</td>\n",
       "      <td>0</td>\n",
       "      <td>Graduate</td>\n",
       "      <td>No</td>\n",
       "      <td>2900</td>\n",
       "      <td>0.0</td>\n",
       "      <td>71.0</td>\n",
       "      <td>360.0</td>\n",
       "      <td>1.0</td>\n",
       "      <td>Rural</td>\n",
       "      <td>Y</td>\n",
       "    </tr>\n",
       "    <tr>\n",
       "      <th>610</th>\n",
       "      <td>LP002979</td>\n",
       "      <td>Male</td>\n",
       "      <td>Yes</td>\n",
       "      <td>3+</td>\n",
       "      <td>Graduate</td>\n",
       "      <td>No</td>\n",
       "      <td>4106</td>\n",
       "      <td>0.0</td>\n",
       "      <td>40.0</td>\n",
       "      <td>180.0</td>\n",
       "      <td>1.0</td>\n",
       "      <td>Rural</td>\n",
       "      <td>Y</td>\n",
       "    </tr>\n",
       "    <tr>\n",
       "      <th>611</th>\n",
       "      <td>LP002983</td>\n",
       "      <td>Male</td>\n",
       "      <td>Yes</td>\n",
       "      <td>1</td>\n",
       "      <td>Graduate</td>\n",
       "      <td>No</td>\n",
       "      <td>8072</td>\n",
       "      <td>240.0</td>\n",
       "      <td>253.0</td>\n",
       "      <td>360.0</td>\n",
       "      <td>1.0</td>\n",
       "      <td>Urban</td>\n",
       "      <td>Y</td>\n",
       "    </tr>\n",
       "    <tr>\n",
       "      <th>612</th>\n",
       "      <td>LP002984</td>\n",
       "      <td>Male</td>\n",
       "      <td>Yes</td>\n",
       "      <td>2</td>\n",
       "      <td>Graduate</td>\n",
       "      <td>No</td>\n",
       "      <td>7583</td>\n",
       "      <td>0.0</td>\n",
       "      <td>187.0</td>\n",
       "      <td>360.0</td>\n",
       "      <td>1.0</td>\n",
       "      <td>Urban</td>\n",
       "      <td>Y</td>\n",
       "    </tr>\n",
       "    <tr>\n",
       "      <th>613</th>\n",
       "      <td>LP002990</td>\n",
       "      <td>Female</td>\n",
       "      <td>No</td>\n",
       "      <td>0</td>\n",
       "      <td>Graduate</td>\n",
       "      <td>Yes</td>\n",
       "      <td>4583</td>\n",
       "      <td>0.0</td>\n",
       "      <td>133.0</td>\n",
       "      <td>360.0</td>\n",
       "      <td>0.0</td>\n",
       "      <td>Semiurban</td>\n",
       "      <td>N</td>\n",
       "    </tr>\n",
       "  </tbody>\n",
       "</table>\n",
       "<p>614 rows × 13 columns</p>\n",
       "</div>"
      ],
      "text/plain": [
       "      Loan_ID  Gender Married Dependents     Education Self_Employed  \\\n",
       "0    LP001002    Male      No          0      Graduate            No   \n",
       "1    LP001003    Male     Yes          1      Graduate            No   \n",
       "2    LP001005    Male     Yes          0      Graduate           Yes   \n",
       "3    LP001006    Male     Yes          0  Not Graduate            No   \n",
       "4    LP001008    Male      No          0      Graduate            No   \n",
       "..        ...     ...     ...        ...           ...           ...   \n",
       "609  LP002978  Female      No          0      Graduate            No   \n",
       "610  LP002979    Male     Yes         3+      Graduate            No   \n",
       "611  LP002983    Male     Yes          1      Graduate            No   \n",
       "612  LP002984    Male     Yes          2      Graduate            No   \n",
       "613  LP002990  Female      No          0      Graduate           Yes   \n",
       "\n",
       "     ApplicantIncome  CoapplicantIncome  LoanAmount  Loan_Amount_Term  \\\n",
       "0               5849                0.0         NaN             360.0   \n",
       "1               4583             1508.0       128.0             360.0   \n",
       "2               3000                0.0        66.0             360.0   \n",
       "3               2583             2358.0       120.0             360.0   \n",
       "4               6000                0.0       141.0             360.0   \n",
       "..               ...                ...         ...               ...   \n",
       "609             2900                0.0        71.0             360.0   \n",
       "610             4106                0.0        40.0             180.0   \n",
       "611             8072              240.0       253.0             360.0   \n",
       "612             7583                0.0       187.0             360.0   \n",
       "613             4583                0.0       133.0             360.0   \n",
       "\n",
       "     Credit_History Property_Area Loan_Status  \n",
       "0               1.0         Urban           Y  \n",
       "1               1.0         Rural           N  \n",
       "2               1.0         Urban           Y  \n",
       "3               1.0         Urban           Y  \n",
       "4               1.0         Urban           Y  \n",
       "..              ...           ...         ...  \n",
       "609             1.0         Rural           Y  \n",
       "610             1.0         Rural           Y  \n",
       "611             1.0         Urban           Y  \n",
       "612             1.0         Urban           Y  \n",
       "613             0.0     Semiurban           N  \n",
       "\n",
       "[614 rows x 13 columns]"
      ]
     },
     "execution_count": 4,
     "metadata": {},
     "output_type": "execute_result"
    }
   ],
   "source": [
    "df=pd.read_csv('Loan_dataset.csv')\n",
    "df"
   ]
  },
  {
   "cell_type": "code",
   "execution_count": 5,
   "id": "1e833c47",
   "metadata": {},
   "outputs": [
    {
     "data": {
      "text/html": [
       "<div>\n",
       "<style scoped>\n",
       "    .dataframe tbody tr th:only-of-type {\n",
       "        vertical-align: middle;\n",
       "    }\n",
       "\n",
       "    .dataframe tbody tr th {\n",
       "        vertical-align: top;\n",
       "    }\n",
       "\n",
       "    .dataframe thead th {\n",
       "        text-align: right;\n",
       "    }\n",
       "</style>\n",
       "<table border=\"1\" class=\"dataframe\">\n",
       "  <thead>\n",
       "    <tr style=\"text-align: right;\">\n",
       "      <th></th>\n",
       "      <th>Loan_ID</th>\n",
       "      <th>Gender</th>\n",
       "      <th>Married</th>\n",
       "      <th>Dependents</th>\n",
       "      <th>Education</th>\n",
       "      <th>Self_Employed</th>\n",
       "      <th>ApplicantIncome</th>\n",
       "      <th>CoapplicantIncome</th>\n",
       "      <th>LoanAmount</th>\n",
       "      <th>Loan_Amount_Term</th>\n",
       "      <th>Credit_History</th>\n",
       "      <th>Property_Area</th>\n",
       "      <th>Loan_Status</th>\n",
       "    </tr>\n",
       "  </thead>\n",
       "  <tbody>\n",
       "    <tr>\n",
       "      <th>0</th>\n",
       "      <td>LP001002</td>\n",
       "      <td>Male</td>\n",
       "      <td>No</td>\n",
       "      <td>0</td>\n",
       "      <td>Graduate</td>\n",
       "      <td>No</td>\n",
       "      <td>5849</td>\n",
       "      <td>0.0</td>\n",
       "      <td>NaN</td>\n",
       "      <td>360.0</td>\n",
       "      <td>1.0</td>\n",
       "      <td>Urban</td>\n",
       "      <td>Y</td>\n",
       "    </tr>\n",
       "    <tr>\n",
       "      <th>1</th>\n",
       "      <td>LP001003</td>\n",
       "      <td>Male</td>\n",
       "      <td>Yes</td>\n",
       "      <td>1</td>\n",
       "      <td>Graduate</td>\n",
       "      <td>No</td>\n",
       "      <td>4583</td>\n",
       "      <td>1508.0</td>\n",
       "      <td>128.0</td>\n",
       "      <td>360.0</td>\n",
       "      <td>1.0</td>\n",
       "      <td>Rural</td>\n",
       "      <td>N</td>\n",
       "    </tr>\n",
       "    <tr>\n",
       "      <th>2</th>\n",
       "      <td>LP001005</td>\n",
       "      <td>Male</td>\n",
       "      <td>Yes</td>\n",
       "      <td>0</td>\n",
       "      <td>Graduate</td>\n",
       "      <td>Yes</td>\n",
       "      <td>3000</td>\n",
       "      <td>0.0</td>\n",
       "      <td>66.0</td>\n",
       "      <td>360.0</td>\n",
       "      <td>1.0</td>\n",
       "      <td>Urban</td>\n",
       "      <td>Y</td>\n",
       "    </tr>\n",
       "    <tr>\n",
       "      <th>3</th>\n",
       "      <td>LP001006</td>\n",
       "      <td>Male</td>\n",
       "      <td>Yes</td>\n",
       "      <td>0</td>\n",
       "      <td>Not Graduate</td>\n",
       "      <td>No</td>\n",
       "      <td>2583</td>\n",
       "      <td>2358.0</td>\n",
       "      <td>120.0</td>\n",
       "      <td>360.0</td>\n",
       "      <td>1.0</td>\n",
       "      <td>Urban</td>\n",
       "      <td>Y</td>\n",
       "    </tr>\n",
       "    <tr>\n",
       "      <th>4</th>\n",
       "      <td>LP001008</td>\n",
       "      <td>Male</td>\n",
       "      <td>No</td>\n",
       "      <td>0</td>\n",
       "      <td>Graduate</td>\n",
       "      <td>No</td>\n",
       "      <td>6000</td>\n",
       "      <td>0.0</td>\n",
       "      <td>141.0</td>\n",
       "      <td>360.0</td>\n",
       "      <td>1.0</td>\n",
       "      <td>Urban</td>\n",
       "      <td>Y</td>\n",
       "    </tr>\n",
       "  </tbody>\n",
       "</table>\n",
       "</div>"
      ],
      "text/plain": [
       "    Loan_ID Gender Married Dependents     Education Self_Employed  \\\n",
       "0  LP001002   Male      No          0      Graduate            No   \n",
       "1  LP001003   Male     Yes          1      Graduate            No   \n",
       "2  LP001005   Male     Yes          0      Graduate           Yes   \n",
       "3  LP001006   Male     Yes          0  Not Graduate            No   \n",
       "4  LP001008   Male      No          0      Graduate            No   \n",
       "\n",
       "   ApplicantIncome  CoapplicantIncome  LoanAmount  Loan_Amount_Term  \\\n",
       "0             5849                0.0         NaN             360.0   \n",
       "1             4583             1508.0       128.0             360.0   \n",
       "2             3000                0.0        66.0             360.0   \n",
       "3             2583             2358.0       120.0             360.0   \n",
       "4             6000                0.0       141.0             360.0   \n",
       "\n",
       "   Credit_History Property_Area Loan_Status  \n",
       "0             1.0         Urban           Y  \n",
       "1             1.0         Rural           N  \n",
       "2             1.0         Urban           Y  \n",
       "3             1.0         Urban           Y  \n",
       "4             1.0         Urban           Y  "
      ]
     },
     "execution_count": 5,
     "metadata": {},
     "output_type": "execute_result"
    }
   ],
   "source": [
    "df.head()"
   ]
  },
  {
   "cell_type": "code",
   "execution_count": 6,
   "id": "49a65e21",
   "metadata": {},
   "outputs": [
    {
     "name": "stdout",
     "output_type": "stream",
     "text": [
      "<class 'pandas.core.frame.DataFrame'>\n",
      "RangeIndex: 614 entries, 0 to 613\n",
      "Data columns (total 13 columns):\n",
      " #   Column             Non-Null Count  Dtype  \n",
      "---  ------             --------------  -----  \n",
      " 0   Loan_ID            614 non-null    object \n",
      " 1   Gender             601 non-null    object \n",
      " 2   Married            611 non-null    object \n",
      " 3   Dependents         599 non-null    object \n",
      " 4   Education          614 non-null    object \n",
      " 5   Self_Employed      582 non-null    object \n",
      " 6   ApplicantIncome    614 non-null    int64  \n",
      " 7   CoapplicantIncome  614 non-null    float64\n",
      " 8   LoanAmount         592 non-null    float64\n",
      " 9   Loan_Amount_Term   600 non-null    float64\n",
      " 10  Credit_History     564 non-null    float64\n",
      " 11  Property_Area      614 non-null    object \n",
      " 12  Loan_Status        614 non-null    object \n",
      "dtypes: float64(4), int64(1), object(8)\n",
      "memory usage: 62.5+ KB\n"
     ]
    }
   ],
   "source": [
    "df.info()"
   ]
  },
  {
   "cell_type": "code",
   "execution_count": 7,
   "id": "e50f58a9",
   "metadata": {},
   "outputs": [
    {
     "data": {
      "text/plain": [
       "(614, 13)"
      ]
     },
     "execution_count": 7,
     "metadata": {},
     "output_type": "execute_result"
    }
   ],
   "source": [
    "df.shape"
   ]
  },
  {
   "cell_type": "code",
   "execution_count": 8,
   "id": "be2c7d13",
   "metadata": {},
   "outputs": [],
   "source": [
    "df=df.drop(columns=[\"Loan_ID\"],axis=1)"
   ]
  },
  {
   "cell_type": "markdown",
   "id": "43b80f2d",
   "metadata": {},
   "source": [
    "## Uni-Variate Analysis"
   ]
  },
  {
   "cell_type": "code",
   "execution_count": 7,
   "id": "48274b51",
   "metadata": {},
   "outputs": [
    {
     "name": "stderr",
     "output_type": "stream",
     "text": [
      "C:\\ProgramData\\Anaconda3\\lib\\site-packages\\seaborn\\distributions.py:2619: FutureWarning: `distplot` is a deprecated function and will be removed in a future version. Please adapt your code to use either `displot` (a figure-level function with similar flexibility) or `histplot` (an axes-level function for histograms).\n",
      "  warnings.warn(msg, FutureWarning)\n"
     ]
    },
    {
     "data": {
      "text/plain": [
       "<AxesSubplot:xlabel='ApplicantIncome', ylabel='Density'>"
      ]
     },
     "execution_count": 7,
     "metadata": {},
     "output_type": "execute_result"
    },
    {
     "data": {
      "image/png": "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\n",
      "text/plain": [
       "<Figure size 640x480 with 1 Axes>"
      ]
     },
     "metadata": {},
     "output_type": "display_data"
    }
   ],
   "source": [
    "sns.distplot(df.ApplicantIncome)"
   ]
  },
  {
   "cell_type": "code",
   "execution_count": 8,
   "id": "227a936a",
   "metadata": {},
   "outputs": [
    {
     "name": "stderr",
     "output_type": "stream",
     "text": [
      "C:\\ProgramData\\Anaconda3\\lib\\site-packages\\seaborn\\_decorators.py:36: FutureWarning: Pass the following variable as a keyword arg: x. From version 0.12, the only valid positional argument will be `data`, and passing other arguments without an explicit keyword will result in an error or misinterpretation.\n",
      "  warnings.warn(\n"
     ]
    },
    {
     "data": {
      "text/plain": [
       "<AxesSubplot:xlabel='Property_Area', ylabel='count'>"
      ]
     },
     "execution_count": 8,
     "metadata": {},
     "output_type": "execute_result"
    },
    {
     "data": {
      "image/png": "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\n",
      "text/plain": [
       "<Figure size 640x480 with 1 Axes>"
      ]
     },
     "metadata": {},
     "output_type": "display_data"
    }
   ],
   "source": [
    "sns.countplot(df.Property_Area)"
   ]
  },
  {
   "cell_type": "code",
   "execution_count": 44,
   "id": "25c9d103",
   "metadata": {},
   "outputs": [
    {
     "name": "stderr",
     "output_type": "stream",
     "text": [
      "C:\\ProgramData\\Anaconda3\\lib\\site-packages\\seaborn\\_decorators.py:36: FutureWarning: Pass the following variable as a keyword arg: x. From version 0.12, the only valid positional argument will be `data`, and passing other arguments without an explicit keyword will result in an error or misinterpretation.\n",
      "  warnings.warn(\n"
     ]
    },
    {
     "data": {
      "text/plain": [
       "<AxesSubplot:xlabel='Gender', ylabel='count'>"
      ]
     },
     "execution_count": 44,
     "metadata": {},
     "output_type": "execute_result"
    },
    {
     "data": {
      "image/png": "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\n",
      "text/plain": [
       "<Figure size 640x480 with 1 Axes>"
      ]
     },
     "metadata": {},
     "output_type": "display_data"
    }
   ],
   "source": [
    "sns.countplot(df.Gender)"
   ]
  },
  {
   "cell_type": "code",
   "execution_count": 45,
   "id": "a197bf18",
   "metadata": {},
   "outputs": [
    {
     "name": "stderr",
     "output_type": "stream",
     "text": [
      "C:\\ProgramData\\Anaconda3\\lib\\site-packages\\seaborn\\_decorators.py:36: FutureWarning: Pass the following variable as a keyword arg: x. From version 0.12, the only valid positional argument will be `data`, and passing other arguments without an explicit keyword will result in an error or misinterpretation.\n",
      "  warnings.warn(\n"
     ]
    },
    {
     "data": {
      "text/plain": [
       "<AxesSubplot:xlabel='Education', ylabel='count'>"
      ]
     },
     "execution_count": 45,
     "metadata": {},
     "output_type": "execute_result"
    },
    {
     "data": {
      "image/png": "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\n",
      "text/plain": [
       "<Figure size 640x480 with 1 Axes>"
      ]
     },
     "metadata": {},
     "output_type": "display_data"
    }
   ],
   "source": [
    "sns.countplot(df.Education)"
   ]
  },
  {
   "cell_type": "code",
   "execution_count": 46,
   "id": "79d74b82",
   "metadata": {},
   "outputs": [
    {
     "name": "stderr",
     "output_type": "stream",
     "text": [
      "C:\\ProgramData\\Anaconda3\\lib\\site-packages\\seaborn\\_decorators.py:36: FutureWarning: Pass the following variable as a keyword arg: x. From version 0.12, the only valid positional argument will be `data`, and passing other arguments without an explicit keyword will result in an error or misinterpretation.\n",
      "  warnings.warn(\n"
     ]
    },
    {
     "data": {
      "text/plain": [
       "<AxesSubplot:xlabel='Self_Employed', ylabel='count'>"
      ]
     },
     "execution_count": 46,
     "metadata": {},
     "output_type": "execute_result"
    },
    {
     "data": {
      "image/png": "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\n",
      "text/plain": [
       "<Figure size 640x480 with 1 Axes>"
      ]
     },
     "metadata": {},
     "output_type": "display_data"
    }
   ],
   "source": [
    "sns.countplot(df.Self_Employed)"
   ]
  },
  {
   "cell_type": "code",
   "execution_count": 47,
   "id": "58dbcaa5",
   "metadata": {},
   "outputs": [
    {
     "name": "stderr",
     "output_type": "stream",
     "text": [
      "C:\\ProgramData\\Anaconda3\\lib\\site-packages\\seaborn\\_decorators.py:36: FutureWarning: Pass the following variable as a keyword arg: x. From version 0.12, the only valid positional argument will be `data`, and passing other arguments without an explicit keyword will result in an error or misinterpretation.\n",
      "  warnings.warn(\n"
     ]
    },
    {
     "data": {
      "text/plain": [
       "<AxesSubplot:xlabel='Married', ylabel='count'>"
      ]
     },
     "execution_count": 47,
     "metadata": {},
     "output_type": "execute_result"
    },
    {
     "data": {
      "image/png": "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\n",
      "text/plain": [
       "<Figure size 640x480 with 1 Axes>"
      ]
     },
     "metadata": {},
     "output_type": "display_data"
    }
   ],
   "source": [
    "sns.countplot(df.Married)"
   ]
  },
  {
   "cell_type": "code",
   "execution_count": 48,
   "id": "647190d0",
   "metadata": {},
   "outputs": [
    {
     "data": {
      "text/plain": [
       "<AxesSubplot:xlabel='LoanAmount', ylabel='Count'>"
      ]
     },
     "execution_count": 48,
     "metadata": {},
     "output_type": "execute_result"
    },
    {
     "data": {
      "image/png": "iVBORw0KGgoAAAANSUhEUgAAAjsAAAGzCAYAAADJ3dZzAAAAOXRFWHRTb2Z0d2FyZQBNYXRwbG90bGliIHZlcnNpb24zLjUuMSwgaHR0cHM6Ly9tYXRwbG90bGliLm9yZy/YYfK9AAAACXBIWXMAAA9hAAAPYQGoP6dpAAAskElEQVR4nO3dfXQUVZ7G8ac7bxIN4UXpJLwlaHzBICIwaHAFFOIquCpnFUUUV50FEQTRQRGVyI6J4opx5cWBYQB1GGb3AA57lhECStSNoxhEAVnUMUiMiZlBSIJAQqfv/uFJHdsQ6IQOXbn5fs6pc9K3blf/6qbpPFTd6vIYY4wAAAAs5Y10AQAAAC2JsAMAAKxG2AEAAFYj7AAAAKsRdgAAgNUIOwAAwGqEHQAAYDXCDgAAsBphBwAAWI2wAwAArBYdyRd/55139Pzzz6uoqEhlZWVau3atbrrpJme9MUZPP/20Fi9erAMHDmjQoEFasGCBLr74YqdPTU2NHnnkEf3hD3/QkSNHdM0112jhwoXq1q1byHUEAgF9++23SkhIkMfjCecuAgCAFmKMUXV1tVJSUuT1nuD4jYmg9evXm1mzZpnVq1cbSWbt2rVB65999lmTkJBgVq9ebXbs2GHGjBljkpOTTVVVldNn4sSJpmvXriY/P99s27bNDBs2zPTt29f4/f6Q6ygpKTGSWFhYWFhYWFrhUlJScsK/8x5j3HEjUI/HE3RkxxijlJQUTZs2TY8++qikH4/i+Hw+Pffcc5owYYIqKyt1zjnn6LXXXtOYMWMkSd9++626d++u9evX69prrw3ptSsrK9WhQweVlJSoffv2LbJ/AAAgvKqqqtS9e3cdPHhQiYmJjfaL6GmsEykuLlZ5ebmysrKctri4OA0ZMkSFhYWaMGGCioqKdOzYsaA+KSkpysjIUGFhYaNhp6amRjU1Nc7j6upqSVL79u0JOwAAtDInm4Li2gnK5eXlkiSfzxfU7vP5nHXl5eWKjY1Vx44dG+1zPLm5uUpMTHSW7t27h7l6AADgFq4NO/V+ntaMMSdNcCfrM3PmTFVWVjpLSUlJWGoFAADu49qwk5SUJEkNjtBUVFQ4R3uSkpJUW1urAwcONNrneOLi4pxTVpy6AgDAbq4NO2lpaUpKSlJ+fr7TVltbq4KCAmVmZkqS+vfvr5iYmKA+ZWVl2rlzp9MHAAC0bRGdoHzo0CF9+eWXzuPi4mJt375dnTp1Uo8ePTRt2jTl5OQoPT1d6enpysnJUXx8vMaOHStJSkxM1L333quHH35YnTt3VqdOnfTII4+oT58+Gj58eKR2CwAAuEhEw85HH32kYcOGOY+nT58uSRo/fryWL1+uGTNm6MiRI5o0aZLzpYIbN25UQkKC85wXX3xR0dHRuvXWW50vFVy+fLmioqJO+/4AAAD3cc337ERSVVWVEhMTVVlZyfwdAABaiVD/frt2zg4AAEA4EHYAAIDVCDsAAMBqhB0AAGA1wg4AALAaYQcAAFiNsAMAAKwW0S8VhN38fr8CgUBIfb1er6KjeTsCAMKPvy5oEX6/X916pOq7stKQ+vuSu+qbfXsJPACAsOMvC1pEIBDQd2WlGv3SJnmjY07c139Ma6YOD/koEAAATUHYQYvyRsco6iRhBwCAlsQEZQAAYDXCDgAAsBphBwAAWI2wAwAArEbYAQAAViPsAAAAqxF2AACA1Qg7AADAaoQdAABgNcIOAACwGmEHAABYjbADAACsRtgBAABWI+wAAACrEXYAAIDVCDsAAMBqhB0AAGA1wg4AALAaYQcAAFiNsAMAAKxG2AEAAFYj7AAAAKsRdgAAgNUIOwAAwGqEHQAAYLXoSBcA1KutrT1pH6/Xq+ho3rYAgNDxVwMRF6jzS94oJSQknLSvL7mrvtm3l8ADAAgZfzEQecZIgTrd/GK+omJjG+0W8B/TmqnDFQgETmNxAIDWjrAD1/BGxygqOibSZQAALMMEZQAAYDXCDgAAsBphBwAAWI2wAwAArEbYAQAAViPsAAAAqxF2AACA1Qg7AADAaoQdAABgNcIOAACwGmEHAABYjbADAACsRtgBAABWI+wAAACrEXYAAIDVCDsAAMBqhB0AAGA1wg4AALAaYQcAAFiNsAMAAKxG2AEAAFYj7AAAAKu5Ouz4/X498cQTSktLU7t27dSrVy/NmTNHgUDA6WOMUXZ2tlJSUtSuXTsNHTpUu3btimDVAADATVwddp577jm98sormj9/vnbv3q25c+fq+eef18svv+z0mTt3rubNm6f58+dr69atSkpK0ogRI1RdXR3BygEAgFu4Ouy8//77uvHGGzVy5Eilpqbqn//5n5WVlaWPPvpI0o9HdfLy8jRr1iyNHj1aGRkZWrFihQ4fPqyVK1dGuHoAAOAGrg47V155pTZv3qzPP/9ckvTJJ5/ovffe0/XXXy9JKi4uVnl5ubKyspznxMXFaciQISosLGx0uzU1NaqqqgpaAACAnaIjXcCJPProo6qsrNSFF16oqKgo1dXV6ZlnntHtt98uSSovL5ck+Xy+oOf5fD59/fXXjW43NzdXTz/9dMsVDgAAXMPVR3b++Mc/6vXXX9fKlSu1bds2rVixQv/+7/+uFStWBPXzeDxBj40xDdp+aubMmaqsrHSWkpKSFqkfAABEnquP7PzqV7/SY489pttuu02S1KdPH3399dfKzc3V+PHjlZSUJOnHIzzJycnO8yoqKhoc7fmpuLg4xcXFtWzxAADAFVx9ZOfw4cPyeoNLjIqKci49T0tLU1JSkvLz8531tbW1KigoUGZm5mmtFQAAuJOrj+zccMMNeuaZZ9SjRw9dfPHF+vjjjzVv3jzdc889kn48fTVt2jTl5OQoPT1d6enpysnJUXx8vMaOHRvh6gEAgBu4Ouy8/PLLevLJJzVp0iRVVFQoJSVFEyZM0FNPPeX0mTFjho4cOaJJkybpwIEDGjRokDZu3KiEhIQIVg4AANzC1WEnISFBeXl5ysvLa7SPx+NRdna2srOzT1tdAACg9XD1nB0AAIBTRdgBAABWI+wAAACrEXYAAIDVCDsAAMBqhB0AAGA1wg4AALAaYQcAAFiNsAMAAKxG2AEAAFYj7AAAAKsRdgAAgNUIOwAAwGqEHQAAYLXoSBeA1sfv9ysQCJywT21t7WmqBgCAEyPsoEn8fr+69UjVd2WlIfU3xrRwRQAAnBhhB00SCAT0XVmpRr+0Sd7omEb7+Y8e1hsPXyeRdQAAEUbYQbN4o2MUdYKwEzjBOgAATicmKAMAAKsRdgAAgNUIOwAAwGqEHQAAYDXCDgAAsBphBwAAWI2wAwAArEbYAQAAViPsAAAAqxF2AACA1Qg7AADAaoQdAABgNcIOAACwGmEHAABYjbADAACsRtgBAABWI+wAAACrEXYAAIDVCDsAAMBqhB0AAGA1wg4AALAaYQcAAFiNsAMAAKxG2AEAAFYj7AAAAKsRdgAAgNUIOwAAwGqEHQAAYDXCDgAAsBphBwAAWI2wAwAArEbYAQAAViPsAAAAqxF2AACA1Qg7AADAaoQdAABgNcIOAACwGmEHAABYjbADAACsRtgBAABWI+wAAACrEXYAAIDVCDsAAMBqhB0AAGA1wg4AALCa68NOaWmpxo0bp86dOys+Pl6XXnqpioqKnPXGGGVnZyslJUXt2rXT0KFDtWvXrghWDAAA3MTVYefAgQMaPHiwYmJi9Oc//1mfffaZXnjhBXXo0MHpM3fuXM2bN0/z58/X1q1blZSUpBEjRqi6ujpyhQMAANeIjnQBJ/Lcc8+pe/fuWrZsmdOWmprq/GyMUV5enmbNmqXRo0dLklasWCGfz6eVK1dqwoQJp7tkAADgMq4+srNu3ToNGDBAt9xyi7p06aJ+/fppyZIlzvri4mKVl5crKyvLaYuLi9OQIUNUWFjY6HZrampUVVUVtAAAADu5Oux89dVXWrRokdLT07VhwwZNnDhRDz74oF599VVJUnl5uSTJ5/MFPc/n8znrjic3N1eJiYnO0r1795bbCQAAEFGuDjuBQECXXXaZcnJy1K9fP02YMEG//OUvtWjRoqB+Ho8n6LExpkHbT82cOVOVlZXOUlJS0iL1AwCAyHN12ElOTlbv3r2D2i666CLt27dPkpSUlCRJDY7iVFRUNDja81NxcXFq37590AIAAOzk6rAzePBg7dmzJ6jt888/V8+ePSVJaWlpSkpKUn5+vrO+trZWBQUFyszMPK21AgAAd3L11VgPPfSQMjMzlZOTo1tvvVUffvihFi9erMWLF0v68fTVtGnTlJOTo/T0dKWnpysnJ0fx8fEaO3ZshKsHAABu4OqwM3DgQK1du1YzZ87UnDlzlJaWpry8PN1xxx1OnxkzZujIkSOaNGmSDhw4oEGDBmnjxo1KSEiIYOUAAMAtXB12JGnUqFEaNWpUo+s9Ho+ys7OVnZ19+ooCAACthqvn7AAAAJwqwg4AALAaYQcAAFiNsAMAAKxG2AEAAFYj7AAAAKsRdgAAgNUIOwAAwGqEHQAAYDXCDgAAsFqzwk6vXr20f//+Bu0HDx5Ur169TrkoAACAcGlW2Nm7d6/q6uoatNfU1Ki0tPSUiwIAAAiXJt0IdN26dc7PGzZsUGJiovO4rq5OmzdvVmpqatiKAwAAOFVNCjs33XSTpB/vND5+/PigdTExMUpNTdULL7wQtuIAAABOVZPCTiAQkCSlpaVp69atOvvss1ukKAAAgHBpUtipV1xcHO46AAAAWkSzwo4kbd68WZs3b1ZFRYVzxKfe7373u1MuDAAAIByaFXaefvppzZkzRwMGDFBycrI8Hk+46wIAAAiLZoWdV155RcuXL9edd94Z7noAAADCqlnfs1NbW6vMzMxw1wIAABB2zQo79913n1auXBnuWgAAAMKuWaexjh49qsWLF2vTpk265JJLFBMTE7R+3rx5YSkOAADgVDUr7Hz66ae69NJLJUk7d+4MWsdkZQAA4CbNCjtvv/12uOsAAABoEc2aswMAANBaNOvIzrBhw054uuqtt95qdkEAAADh1KywUz9fp96xY8e0fft27dy5s8ENQgEAACKpWWHnxRdfPG57dna2Dh06dEoFAQAAhFNY5+yMGzeO+2IBAABXCWvYef/993XGGWeEc5MAAACnpFmnsUaPHh302BijsrIyffTRR3ryySfDUhgAAEA4NCvsJCYmBj32er264IILNGfOHGVlZYWlMAAAgHBoVthZtmxZuOsAAABoEc0KO/WKioq0e/dueTwe9e7dW/369QtXXQAAAGHRrLBTUVGh2267TVu2bFGHDh1kjFFlZaWGDRumVatW6Zxzzgl3nQAAAM3SrKuxpkyZoqqqKu3atUvff/+9Dhw4oJ07d6qqqkoPPvhguGsEAABotmYd2XnzzTe1adMmXXTRRU5b7969tWDBAiYoAwAAV2nWkZ1AIKCYmJgG7TExMQoEAqdcFAAAQLg0K+xcffXVmjp1qr799lunrbS0VA899JCuueaasBUHAABwqpoVdubPn6/q6mqlpqbq3HPP1Xnnnae0tDRVV1fr5ZdfDneNAAAAzdasOTvdu3fXtm3blJ+fr//7v/+TMUa9e/fW8OHDw10fAADAKWnSkZ233npLvXv3VlVVlSRpxIgRmjJlih588EENHDhQF198sd59990WKRQAAKA5mhR28vLy9Mtf/lLt27dvsC4xMVETJkzQvHnzwlYcAADAqWpS2Pnkk0/0j//4j42uz8rKUlFR0SkXBZxIbW1tSIvf7490qQAAF2jSnJ3vvvvuuJecOxuLjtbf/va3Uy4KOJ5AnV/yRikhISGk/r7krvpm315FR5/SXVEAAK1ck/4KdO3aVTt27NB555133PWffvqpkpOTw1IY0IAxUqBON7+Yr6jY2BN2DfiPac3U4XzvEwCgaaexrr/+ej311FM6evRog3VHjhzR7NmzNWrUqLAVBxyPNzpGUSdZvNGNH4EEALQtTTqy88QTT2jNmjU6//zzNXnyZF1wwQXyeDzavXu3FixYoLq6Os2aNaulagUAAGiyJoUdn8+nwsJC3X///Zo5c6aMMZIkj8eja6+9VgsXLpTP52uRQgEAAJqjyTM3e/bsqfXr1+vAgQP68ssvZYxRenq6Onbs2BL1AQAAnJJmX6bSsWNHDRw4MJy1AGFXW1t70j5er5crtgDAYnzCw0pNuUydS9QBwG58usNOIV6mziXqAGA/wg6sVn+ZOgCg7WrS9+wAAAC0NoQdAABgNcIOAACwGmEHAABYjbADAACsRtgBAABWI+wAAACrEXYAAIDVWlXYyc3Nlcfj0bRp05w2Y4yys7OVkpKidu3aaejQodq1a1fkigQAAK7SasLO1q1btXjxYl1yySVB7XPnztW8efM0f/58bd26VUlJSRoxYoSqq6sjVCkAAHCTVhF2Dh06pDvuuENLlixRx44dnXZjjPLy8jRr1iyNHj1aGRkZWrFihQ4fPqyVK1dGsGIAAOAWrSLsPPDAAxo5cqSGDx8e1F5cXKzy8nJlZWU5bXFxcRoyZIgKCwsb3V5NTY2qqqqCFgAAYCfX3wh01apVKioq0kcffdRgXXl5uSTJ5/MFtft8Pn399deNbjM3N1dPP/10eAsFAACu5OojOyUlJZo6dap+//vf64wzzmi0n8fjCXpsjGnQ9lMzZ85UZWWls5SUlIStZgAA4C6uPrJTVFSkiooK9e/f32mrq6vTO++8o/nz52vPnj2SfjzCk5yc7PSpqKhocLTnp+Li4hQXF9dyhQMAANdw9ZGda665Rjt27ND27dudZcCAAbrjjju0fft29erVS0lJScrPz3eeU1tbq4KCAmVmZkawcgAA4BauPrKTkJCgjIyMoLYzzzxTnTt3dtqnTZumnJwcpaenKz09XTk5OYqPj9fYsWMjUTIAAHAZV4edUMyYMUNHjhzRpEmTdODAAQ0aNEgbN25UQkJCpEsDAAAu0OrCzpYtW4IeezweZWdnKzs7OyL1AAAAd3P1nB0AAIBTRdgBAABWI+wAAACrtbo5O0BLqK2tDamf1+tVdDT/bACgNeFTG21aoM4veaNCvnrPl9xV3+zbS+ABgFaET2y0bcZIgTrd/GK+omJjT9g14D+mNVOHKxAInKbiAADhQNgBJHmjYxQVHRPpMgAALYAJygAAwGqEHQAAYDXCDgAAsBpzdiBJ8vv9IU28DfUSbQAA3IKwA/n9fnXrkarvykpDfo4xpgUrAgAgfAg7UCAQ0HdlpRr90iZ5T3JFkv/oYb3x8HUSWQcA0EoQduAI5fLrAJdnAwBaGSYoAwAAqxF2AACA1Qg7AADAaoQdAABgNcIOAACwGmEHAABYjbADAACsxvfsWC6U20BwCwgAgM0IOxZr6m0guAUEAMBGhB2LhXobCG4BAQCwGWGnDTjZbSC4BQQAwGaEHaCJQpnj5PV6FR3NPy8AcAM+jYEQBer8kjdKCQkJJ+3rS+6qb/btJfAAgAvwSQyEyhgpUKebX8xXVGxso90C/mNaM3X4Sa+CAwCcHoQdoIlONgcKAOAufKkgAACwGmEHAABYjbADAACsRtgBAABWI+wAAACrEXYAAIDVCDsAAMBqhB0AAGA1wg4AALAaYQcAAFiNsAMAAKxG2AEAAFYj7AAAAKsRdgAAgNUIOwAAwGqEHQAAYDXCDgAAsBphBwAAWI2wAwAArEbYAQAAViPsAAAAqxF2AACA1Qg7AADAaoQdAABgNcIOAACwGmEHAABYjbADAACsRtgBAABWI+wAAACrEXYAAIDVCDsAAMBqhB0AAGA1wg4AALCaq8NObm6uBg4cqISEBHXp0kU33XST9uzZE9THGKPs7GylpKSoXbt2Gjp0qHbt2hWhigEAgNu4OuwUFBTogQce0F/+8hfl5+fL7/crKytLP/zwg9Nn7ty5mjdvnubPn6+tW7cqKSlJI0aMUHV1dQQrBwAAbhEd6QJO5M033wx6vGzZMnXp0kVFRUW66qqrZIxRXl6eZs2apdGjR0uSVqxYIZ/Pp5UrV2rChAmRKBsAALiIq4/s/FxlZaUkqVOnTpKk4uJilZeXKysry+kTFxenIUOGqLCwsNHt1NTUqKqqKmhpTfx+v2pra0NaAABo61pN2DHGaPr06bryyiuVkZEhSSovL5ck+Xy+oL4+n89Zdzy5ublKTEx0lu7du7dc4WHm9/vVrUeq4uLiTrokJCRI+nHsAABoq1x9GuunJk+erE8//VTvvfdeg3UejyfosTGmQdtPzZw5U9OnT3ceV1VVtZrAEwgE9F1ZqUa/tEne6JgT9vUfPaw3Hr5OIusAANqwVhF2pkyZonXr1umdd95Rt27dnPakpCRJPx7hSU5OdtorKioaHO35qfojH62ZNzpGUScJO4GTrAcAoC1w9WksY4wmT56sNWvW6K233lJaWlrQ+rS0NCUlJSk/P99pq62tVUFBgTIzM093uQAAwIVcfWTngQce0MqVK/WnP/1JCQkJzjycxMREtWvXTh6PR9OmTVNOTo7S09OVnp6unJwcxcfHa+zYsRGuHgAAuIGrw86iRYskSUOHDg1qX7Zsme6++25J0owZM3TkyBFNmjRJBw4c0KBBg7Rx40Znci4AAGjbXB12QrmKyOPxKDs7W9nZ2S1fEAAAaHVcPWcHAADgVBF2AACA1Qg7AADAaoQdAABgNcIOAACwGmEHAABYjbADAACsRtgBAABWI+wAAACrEXYAAIDVCDsAAMBqhB0AAGA1wg4AALAaYQcAAFiNsAMAAKxG2AEAAFYj7AAAAKsRdgAAgNUIOwAAwGqEHQAAYDXCDgAAsBphBwAAWC060gUACD+/369AIHDSfl6vV9HRfAwAsBufcoBl/H6/uvVI1XdlpSft60vuqm/27SXwALAan3CAZQKBgL4rK9XolzbJGx3TeD//Ma2ZOjykI0AA0JoRdoAWUltbG1K/ljqV5I2OUdQJwg4AtBWEHSDMAnV+yRulhISEkPpzKgkAWhafrkC4GSMF6nTzi/mKio09YVdOJQFAyyPsAC2E00gA4A58zw4AALAaYQcAAFiNsAMAAKxG2AEAAFZjgjLQSoR6C4hQv98HANoKwg7QCjTlFhD1jDEtWBEAtB6EHaAVCPUWEJLkP3pYbzx8nUTWAQBJhB2gVQnlu3sCfLcPAARhgjIAALAaYQcAAFiNsAMAAKzGnB0XCeXSYi4rBgCgaQg7LtHUS4u5rBgAgNAQdlwi1EuLuawYAICmIey4zMkuLeayYgAAmoawA7jAyeZiteRcrVC37fV6FR3NRwaA1odPLiCCAnV+yRulhISEkPqHc65WU1/bl9xV3+zbS+AB0OrwqQVEkjFSoE43v5ivqNjYRru1yFytEF9bkgL+Y1ozdXhINyIFALch7AAuEMm5WqHcgqIpQr07u8SpMQCnB58yAMKmqV+hwKkxAKcDnzAAwqYpd2fn1BiA04WwAyDswn1qDABOBWGnhYU6f4HbQKA1aIlL5EN5DnN7IifUzzB+R3Az3pktqKnzFyRuAwF3aolL5JuyTeb2REZTPsP4HcHNeFe2oKbMX+A2EHC1lrhEPsRtMrcnckL9DON3BLcj7JwGocxf4DYQaA1a4hJ55ve4H78jtHaEHQBWYY5J5HDrEbgV7zYA1mCOSWRw6xG4He80ANZgjkmEcOsRuBxhB4B1Qp1jEu7TLm39VhltdW4Pp07dj1EH0Oa0xGkXbpXRNnHqtHVgxAG0PS1w2oVbZbRNnDptHQg7ANqsljjt0lZP5bR1/N7djbADACFoiVtlhKKtzwMKN9vm10T6/dFaxtMbsVcOs4ULFyotLU1nnHGG+vfvr3fffTfSJQGwwE/n98TFxTW61M//CectX+rng5zodX+6dOuRKr/fH7bXt01TxrM1jGWk3x+taTzdH1tD8Mc//lHTpk3TwoULNXjwYP3mN7/Rddddp88++0w9evSIdHkAWrOWuFVGiJgHFF62za+J9PujNY2nFWFn3rx5uvfee3XfffdJkvLy8rRhwwYtWrRIubm5Ea4OgA1a4lYZ4XptNI1t4xnp/Yn064ei1Yed2tpaFRUV6bHHHgtqz8rKUmFh4XGfU1NTo5qaGudxZWWlJKmqqirstUlSzaGD8kad5EagNYedvv6YE/zvMcR+bJNt2rLNQN0xSdLf//53xZ7kyqlQ/81Fet9D3aemfIY0ZZxC1RLj2RJ1hirU/WmJ91wkfz+Rfv36166qqgr777z+7/ZJTx+bVq60tNRIMv/7v/8b1P7MM8+Y888//7jPmT17ttGPB5tZWFhYWFhYWvlSUlJywqzQ6o/s1PN4PEGPjTEN2urNnDlT06dPdx4HAgF9//336ty5c6PPOZmqqip1795dJSUlat++fbO20doxBoyBxBjUYxwYA4kxkFp2DIwxqq6uVkpKygn7tfqwc/bZZysqKkrl5eVB7RUVFfL5fMd9Tv3s8J/q0KFDWOpp3759m31D12MMGAOJMajHODAGEmMgtdwYJCYmnrRPq7/0PDY2Vv3791d+fn5Qe35+vjIzMyNUFQAAcItWf2RHkqZPn64777xTAwYM0BVXXKHFixdr3759mjhxYqRLAwAAEWZF2BkzZoz279+vOXPmqKysTBkZGVq/fr169ux52mqIi4vT7NmzG5wea0sYA8ZAYgzqMQ6MgcQYSO4YA48xYfy6TwAAAJdp9XN2AAAAToSwAwAArEbYAQAAViPsAAAAqxF2wmDhwoVKS0vTGWecof79++vdd9+NdElh88477+iGG25QSkqKPB6P3njjjaD1xhhlZ2crJSVF7dq109ChQ7Vr166gPjU1NZoyZYrOPvtsnXnmmfqnf/onffPNN6dxL05Nbm6uBg4cqISEBHXp0kU33XST9uzZE9TH9nFYtGiRLrnkEudLwa644gr9+c9/dtbbvv/Hk5ubK4/Ho2nTpjltbWEcsrOz5fF4gpakpCRnfVsYA0kqLS3VuHHj1LlzZ8XHx+vSSy9VUVGRs972cUhNTW3wPvB4PHrggQckuXD/T+3OVFi1apWJiYkxS5YsMZ999pmZOnWqOfPMM83XX38d6dLCYv369WbWrFlm9erVRpJZu3Zt0Ppnn33WJCQkmNWrV5sdO3aYMWPGmOTkZFNVVeX0mThxounatavJz88327ZtM8OGDTN9+/Y1fr//NO9N81x77bVm2bJlZufOnWb79u1m5MiRpkePHubQoUNOH9vHYd26deZ//ud/zJ49e8yePXvM448/bmJiYszOnTuNMfbv/899+OGHJjU11VxyySVm6tSpTntbGIfZs2ebiy++2JSVlTlLRUWFs74tjMH3339vevbsae6++27zwQcfmOLiYrNp0ybz5ZdfOn1sH4eKioqg90B+fr6RZN5++21jjPv2n7Bzin7xi1+YiRMnBrVdeOGF5rHHHotQRS3n52EnEAiYpKQk8+yzzzptR48eNYmJieaVV14xxhhz8OBBExMTY1atWuX0KS0tNV6v17z55punrfZwqqioMJJMQUGBMabtjkPHjh3Nb3/72za3/9XV1SY9Pd3k5+ebIUOGOGGnrYzD7NmzTd++fY+7rq2MwaOPPmquvPLKRte3lXH4qalTp5pzzz3XBAIBV+4/p7FOQW1trYqKipSVlRXUnpWVpcLCwghVdfoUFxervLw8aP/j4uI0ZMgQZ/+Liop07NixoD4pKSnKyMhotWNUWVkpSerUqZOktjcOdXV1WrVqlX744QddccUVbW7/H3jgAY0cOVLDhw8Pam9L4/DFF18oJSVFaWlpuu222/TVV19JajtjsG7dOg0YMEC33HKLunTpon79+mnJkiXO+rYyDvVqa2v1+uuv65577pHH43Hl/hN2TsHf//531dXVNbjhqM/na3BjUhvV7+OJ9r+8vFyxsbHq2LFjo31aE2OMpk+friuvvFIZGRmS2s447NixQ2eddZbi4uI0ceJErV27Vr17924z+y9Jq1atUlFRkXJzcxusayvjMGjQIL366qvasGGDlixZovLycmVmZmr//v1tZgy++uorLVq0SOnp6dqwYYMmTpyoBx98UK+++qqktvNeqPfGG2/o4MGDuvvuuyW5c/+tuF1EpHk8nqDHxpgGbTZrzv631jGaPHmyPv30U7333nsN1tk+DhdccIG2b9+ugwcPavXq1Ro/frwKCgqc9bbvf0lJiaZOnaqNGzfqjDPOaLSf7eNw3XXXOT/36dNHV1xxhc4991ytWLFCl19+uST7xyAQCGjAgAHKycmRJPXr10+7du3SokWLdNdddzn9bB+HekuXLtV1112nlJSUoHY37T9Hdk7B2WefraioqAYptKKiokGitVH9FRgn2v+kpCTV1tbqwIEDjfZpLaZMmaJ169bp7bffVrdu3Zz2tjIOsbGxOu+88zRgwADl5uaqb9++eumll9rM/hcVFamiokL9+/dXdHS0oqOjVVBQoP/4j/9QdHS0sx+2j8PPnXnmmerTp4+++OKLNvNeSE5OVu/evYPaLrroIu3bt09S2/lMkKSvv/5amzZt0n333ee0uXH/CTunIDY2Vv3791d+fn5Qe35+vjIzMyNU1emTlpampKSkoP2vra1VQUGBs//9+/dXTExMUJ+ysjLt3Lmz1YyRMUaTJ0/WmjVr9NZbbyktLS1ofVsZh58zxqimpqbN7P8111yjHTt2aPv27c4yYMAA3XHHHdq+fbt69erVJsbh52pqarR7924lJye3mffC4MGDG3z9xOeff+7cfLqtjIMkLVu2TF26dNHIkSOdNlfuf9inPLcx9ZeeL1261Hz22Wdm2rRp5swzzzR79+6NdGlhUV1dbT7++GPz8ccfG0lm3rx55uOPP3YurX/22WdNYmKiWbNmjdmxY4e5/fbbj3t5Ybdu3cymTZvMtm3bzNVXX91qLq80xpj777/fJCYmmi1btgRdann48GGnj+3jMHPmTPPOO++Y4uJi8+mnn5rHH3/ceL1es3HjRmOM/fvfmJ9ejWVM2xiHhx9+2GzZssV89dVX5i9/+YsZNWqUSUhIcD7z2sIYfPjhhyY6Oto888wz5osvvjC///3vTXx8vHn99dedPm1hHOrq6kyPHj3Mo48+2mCd2/afsBMGCxYsMD179jSxsbHmsssucy5JtsHbb79tJDVYxo8fb4z58RLL2bNnm6SkJBMXF2euuuoqs2PHjqBtHDlyxEyePNl06tTJtGvXzowaNcrs27cvAnvTPMfbf0lm2bJlTh/bx+Gee+5x3uPnnHOOueaaa5ygY4z9+9+Yn4edtjAO9d+XEhMTY1JSUszo0aPNrl27nPVtYQyMMea///u/TUZGhomLizMXXnihWbx4cdD6tjAOGzZsMJLMnj17Gqxz2/57jDEm/MeLAAAA3IE5OwAAwGqEHQAAYDXCDgAAsBphBwAAWI2wAwAArEbYAQAAViPsAAAAqxF2AACA1Qg7AJrl7rvv1k033RTpMiT9eEf22NhYlZaWRrqUJlm+fLk6dOgQ6TIA6xF2ALRq7733no4ePapbbrlFy5cvj3Q5AFyIsAMg7AoKCvSLX/xCcXFxSk5O1mOPPSa/3++sf/PNN3XllVeqQ4cO6ty5s0aNGqW//vWvzvq9e/fK4/FozZo1GjZsmOLj49W3b1+9//77DV5r6dKlGjt2rO6880797ne/08/vgJOamqpf//rXuuuuu3TWWWepZ8+e+tOf/qS//e1vuvHGG3XWWWepT58++uijj4Ket3r1al188cWKi4tTamqqXnjhhaD1Ho9Hb7zxRlBbhw4dnMB1sn3YsmWL/uVf/kWVlZXyeDzyeDzKzs5u6lADCAFhB0BYlZaW6vrrr9fAgQP1ySefaNGiRVq6dKl+/etfO31++OEHTZ8+XVu3btXmzZvl9Xp18803KxAIBG1r1qxZeuSRR7R9+3adf/75uv3224NCU3V1tf7rv/5L48aN04gRI/TDDz9oy5YtDWp68cUXNXjwYH388ccaOXKk7rzzTt11110aN26ctm3bpvPOO0933XWXE5SKiop066236rbbbtOOHTuUnZ2tJ598sllHjhrbh8zMTOXl5al9+/YqKytTWVmZHnnkkSZvH0AIWuT2ogCsN378eHPjjTc2aH/88cfNBRdcYAKBgNO2YMECc9ZZZ5m6urrjbquiosJIcu6KXFxcbCSZ3/72t06fXbt2GUlm9+7dTtvixYvNpZde6jyeOnWqueOOO4K23bNnTzNu3DjncVlZmZFknnzySaft/fffN5JMWVmZMcaYsWPHmhEjRgRt51e/+pXp3bu381iSWbt2bVCfxMREs2zZspD3YdmyZSYxMfG4YwIgfDiyAyCsdu/erSuuuEIej8dpGzx4sA4dOqRvvvlGkvTXv/5VY8eOVa9evdS+fXulpaVJkvbt2xe0rUsuucT5OTk5WZJUUVHhtC1dulTjxo1zHo8bN05r1qzRwYMHG92Oz+eTJPXp06dBW/22d+/ercGDBwdtY/Dgwfriiy9UV1cXyjCEvA8AWh5hB0BYGWOCgk59mySn/YYbbtD+/fu1ZMkSffDBB/rggw8kSbW1tUHPi4mJcX6uf279qa7PPvtMH3zwgWbMmKHo6GhFR0fr8ssv15EjR/SHP/zhpNs50bZPtA8/fc7P244dO9ZgPE70OgBOj+hIFwDALr1799bq1auDAkNhYaESEhLUtWtX7d+/X7t379ZvfvMb/cM//IOkH6+oaqqlS5fqqquu0oIFC4LaX3vtNS1dulT333//Ke3Dz2sqLCzU+eefr6ioKEnSOeeco7KyMmf9F198ocOHDzfpdWJjY5t8pAhA0xF2ADRbZWWltm/fHtT2r//6r8rLy9OUKVM0efJk7dmzR7Nnz9b06dPl9XrVsWNHde7cWYsXL1ZycrL27dunxx57rEmve+zYMb322muaM2eOMjIygtbdd999mjt3rj755BP17du3Wfv18MMPa+DAgfq3f/s3jRkzRu+//77mz5+vhQsXOn2uvvpqzZ8/X5dffrkCgYAeffTRoKM4oUhNTdWhQ4e0efNm9e3bV/Hx8YqPj29WzQAax2ksAM22ZcsW9evXL2iZPXu21q9frw8//FB9+/bVxIkTde+99+qJJ56QJHm9Xq1atUpFRUXKyMjQQw89pOeff75Jr7tu3Trt379fN998c4N16enp6tOnj5YuXdrs/brsssv0n//5n1q1apUyMjL01FNPac6cObr77rudPi+88IK6d++uq666SmPHjtUjjzzS5KCSmZmpiRMnasyYMTrnnHM0d+7cZtcMoHEe8/OTzgAAABbhyA4AALAaYQcAAFiNsAMAAKxG2AEAAFYj7AAAAKsRdgAAgNUIOwAAwGqEHQAAYDXCDgAAsBphBwAAWI2wAwAArEbYAQAAVvt/lCh58f+vUKAAAAAASUVORK5CYII=\n",
      "text/plain": [
       "<Figure size 640x480 with 1 Axes>"
      ]
     },
     "metadata": {},
     "output_type": "display_data"
    }
   ],
   "source": [
    "sns.histplot(df.LoanAmount)"
   ]
  },
  {
   "cell_type": "code",
   "execution_count": 49,
   "id": "e275f0aa",
   "metadata": {},
   "outputs": [
    {
     "data": {
      "text/plain": [
       "<seaborn.axisgrid.FacetGrid at 0x206337d6dc0>"
      ]
     },
     "execution_count": 49,
     "metadata": {},
     "output_type": "execute_result"
    },
    {
     "data": {
      "image/png": "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\n",
      "text/plain": [
       "<Figure size 500x500 with 1 Axes>"
      ]
     },
     "metadata": {},
     "output_type": "display_data"
    }
   ],
   "source": [
    "sns.displot(df.CoapplicantIncome)"
   ]
  },
  {
   "cell_type": "code",
   "execution_count": 50,
   "id": "7d856b85",
   "metadata": {},
   "outputs": [
    {
     "data": {
      "text/plain": [
       "([<matplotlib.patches.Wedge at 0x20633a7dbe0>,\n",
       "  <matplotlib.patches.Wedge at 0x20633a8c100>,\n",
       "  <matplotlib.patches.Wedge at 0x20633a8c5e0>],\n",
       " [Text(0.40661098511372595, 1.0220897743275028, 'Semi urban'),\n",
       "  Text(-1.0582795633383781, -0.3000739339235115, 'Urban'),\n",
       "  Text(0.67000963198199, -0.8724030565348555, 'Rural')])"
      ]
     },
     "execution_count": 50,
     "metadata": {},
     "output_type": "execute_result"
    },
    {
     "data": {
      "image/png": "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